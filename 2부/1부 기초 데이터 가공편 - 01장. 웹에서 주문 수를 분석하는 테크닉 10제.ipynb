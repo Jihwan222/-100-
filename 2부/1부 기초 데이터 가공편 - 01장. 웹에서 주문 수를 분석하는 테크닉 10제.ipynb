{
 "cells": [
  {
   "cell_type": "markdown",
   "id": "b885295b",
   "metadata": {},
   "source": [
    "# 1부. 기초편 데이터 가공\n",
    "## 02장. 대리점 데이터를 가공하는 테크닉 10제"
   ]
  },
  {
   "cell_type": "markdown",
   "id": "a576d9dc",
   "metadata": {},
   "source": [
    "## 📣 고객의 소리\n",
    "우리 회사에서는 고객 정보를 엑셀로 관리합니다. 장사는 잘되고 대리점의 매출도 안정적입니다.\n",
    "\n",
    "데이터가 풍부할 때 데이터 분석을 해두면 여러가지 발견을 할 수 있지 않을가 합니다.\n",
    "\n",
    "시험 삼아 데이터 분석을 부탁드립니다.\n",
    "\n",
    "<br>\n",
    "\n",
    "## 📍 전제조건\n",
    "\n",
    "해당 대리점에서는 상품 A ~ Z까지 26개의 상품을 취급하며, 매출 이력과 고객정보 데이터는 \n",
    "\n",
    "담당사원이 시스템에 직접 입력한다. 집계 기간에 상품 단가의 변동은 없었고 매출 이력은 시스템에서\n",
    "\n",
    "CSV 파일로 출력했습니다. 고객 정보는 대리점 관리자가 주별로 집계해서 엑셀로 관리한다."
   ]
  },
  {
   "cell_type": "markdown",
   "id": "08dfed8b",
   "metadata": {},
   "source": []
  },
  {
   "cell_type": "code",
   "execution_count": 1,
   "id": "b42da14b",
   "metadata": {},
   "outputs": [
    {
     "data": {
      "text/html": [
       "<style>.container { width: 75% !important; }</style>"
      ],
      "text/plain": [
       "<IPython.core.display.HTML object>"
      ]
     },
     "metadata": {},
     "output_type": "display_data"
    }
   ],
   "source": [
    "\n",
    "import pandas as pd \n",
    "import numpy as np\n",
    "import seaborn as sns\n",
    "import matplotlib.pyplot as plt\n",
    "\n",
    "from tqdm import tqdm_notebook\n",
    "from IPython.core.display import display, HTML  # 화면크기 조절\n",
    "display(HTML(\"<style>.container { width: 75% !important; }</style>\"))\n",
    "\n",
    "import tensorflow as tf\n",
    "from sklearn.model_selection import GridSearchCV\n",
    "from sklearn.model_selection import cross_validate\n",
    "from sklearn.model_selection import train_test_split\n",
    "from tensorflow.keras.models import Sequential"
   ]
  },
  {
   "cell_type": "code",
   "execution_count": null,
   "id": "8163eb57",
   "metadata": {},
   "outputs": [],
   "source": []
  }
 ],
 "metadata": {
  "kernelspec": {
   "display_name": "Python 3 (ipykernel)",
   "language": "python",
   "name": "python3"
  },
  "language_info": {
   "codemirror_mode": {
    "name": "ipython",
    "version": 3
   },
   "file_extension": ".py",
   "mimetype": "text/x-python",
   "name": "python",
   "nbconvert_exporter": "python",
   "pygments_lexer": "ipython3",
   "version": "3.8.12"
  }
 },
 "nbformat": 4,
 "nbformat_minor": 5
}
